{
  "metadata": {
    "kernelspec": {
      "name": "python",
      "display_name": "Python (Pyodide)",
      "language": "python"
    },
    "language_info": {
      "codemirror_mode": {
        "name": "ipython",
        "version": 3
      },
      "file_extension": ".py",
      "mimetype": "text/x-python",
      "name": "python",
      "nbconvert_exporter": "python",
      "pygments_lexer": "ipython3",
      "version": "3.8.10"
    },
    "colab": {
      "name": "Welcome to DataCamp Workspaces.ipynb",
      "provenance": []
    }
  },
  "nbformat_minor": 5,
  "nbformat": 4,
  "cells": [
    {
      "id": "403cfeca-4a27-464c-860c-b460b22dc264",
      "cell_type": "markdown",
      "source": "The goal of this project is to use SQL on international debt data collected by The World Bank in order to explore, analyze, and understand more about the debt situation across countries. Foundational commands are used as well as a subquery in the where claus, to determine specific facts about international debt status based on the World Bank Database.\n\nQuestions are answered such as:\n\n- What is the total amount of debt that is owed by the countries listed?\n- Which country owns the maximum amount of debt and what does that amount look like?\n- What is the average amount of debt owed by countries across different debt indicators?\n- What is the country and indicator name of the biggest amount of debt in a specific indicator?\n\n\nThe dataset from the World Bank looks like this:\n\n|country_name|country_code|indicator_name                                                    |indicator_code|debt       |\n|------------|------------|------------------------------------------------------------------|--------------|-----------|\n|Afghanistan |AFG         |Principal repayments on external debt, long-term|DT.DIS.DLXF.CD|72894453.7 |\n|Afghanistan |AFG         |Principal repayments on external debt, private nonguaranteed|DT.INT.DLXF.CD|53239440.1 |\n|Afghanistan |AFG         |Disbursements on external debt, long-term|DT.AMT.BLAT.CD|61739336.9 |\n|Afghanistan |AFG         |PPG, official creditors |DT.DIS.BLAT.CD|49114729.4 |\n|Afghanistan |AFG         |PPG, private creditors|DT.INT.BLAT.CD|39903620.1 |\n|Afghanistan |AFG         |Interest payments on external debt, long-term |DT.AMT.MLAT.CD|39107845   |\n|Afghanistan |AFG         |PPG, bilateral |DT.DIS.MLAT.CD|23779724.3 |\n|Afghanistan |AFG         |Interest payments on external debt, private nonguaranteed |DT.INT.MLAT.CD|13335820   |\n|Afghanistan |AFG         |PPG, official creditors |DT.AMT.OFFT.CD|100847181.9|\n|Afghanistan |AFG         |PPG, bonds |DT.DIS.OFFT.CD|72894453.7 |\n",
      "metadata": {}
    },
    {
      "id": "27bb4190-746f-47d9-8b5c-9a80f8cd219f",
      "cell_type": "code",
      "source": "SELECT COUNT(DISTINCT country_name) AS total_distinct_countries ##how many distinct countries owe debt?\nFROM international_debt",
      "metadata": {
        "customType": "sql",
        "dataFrameVariableName": "num_distinct_countries",
        "sqlCellMode": "dataFrame",
        "sqlSource": {
          "integrationId": "89e17161-a224-4a8a-846b-0adc0fe7a4b1",
          "type": "integration"
        },
        "executionCancelledAt": null,
        "executionTime": 663,
        "lastExecutedAt": 1705679810624,
        "lastScheduledRunId": null,
        "lastSuccessfullyExecutedCode": "--num_distinct_countries\nSELECT COUNT(DISTINCT country_name) AS total_distinct_countries\nFROM international_debt",
        "outputsMetadata": {
          "0": {
            "height": 98,
            "type": "dataFrame"
          }
        }
      },
      "outputs": [
        {
          "output_type": "execute_result",
          "data": {
            "application/com.datacamp.data-table.v2+json": {
              "table": {
                "schema": {
                  "fields": [
                    {
                      "name": "index",
                      "type": "integer"
                    },
                    {
                      "name": "total_distinct_countries",
                      "type": "integer"
                    }
                  ],
                  "primaryKey": [
                    "index"
                  ],
                  "pandas_version": "1.4.0"
                },
                "data": {
                  "index": [
                    0
                  ],
                  "total_distinct_countries": [
                    124
                  ]
                }
              },
              "total_rows": 1,
              "truncation_type": null
            },
            "text/plain": "   total_distinct_countries\n0                       124",
            "text/html": "<div>\n<style scoped>\n    .dataframe tbody tr th:only-of-type {\n        vertical-align: middle;\n    }\n\n    .dataframe tbody tr th {\n        vertical-align: top;\n    }\n\n    .dataframe thead th {\n        text-align: right;\n    }\n</style>\n<table border=\"1\" class=\"dataframe\">\n  <thead>\n    <tr style=\"text-align: right;\">\n      <th></th>\n      <th>total_distinct_countries</th>\n    </tr>\n  </thead>\n  <tbody>\n    <tr>\n      <th>0</th>\n      <td>124</td>\n    </tr>\n  </tbody>\n</table>\n</div>"
          },
          "metadata": {},
          "execution_count": 42,
          "@datacamp/metadata": {
            "executedQuery": "--num_distinct_countries\nSELECT COUNT(DISTINCT country_name) AS total_distinct_countries\nFROM international_debt",
            "executedQueryParameters": []
          }
        }
      ],
      "execution_count": 42
    },
    {
      "id": "2d55b23d-9c73-4a6c-9694-544dbf97796f",
      "cell_type": "code",
      "source": "SELECT DISTINCT(indicator_name)    ##I tried to generate a list of different debt types to understand better.\nFROM public.international_debt\nORDER BY indicator_name",
      "metadata": {
        "customType": "sql",
        "dataFrameVariableName": "distinct_debt_indicators",
        "sqlCellMode": "dataFrame",
        "sqlSource": {
          "integrationId": "89e17161-a224-4a8a-846b-0adc0fe7a4b1",
          "type": "integration"
        },
        "executionCancelledAt": null,
        "executionTime": 692,
        "lastExecutedAt": 1705679811316,
        "lastScheduledRunId": null,
        "lastSuccessfullyExecutedCode": "--distinct_debt_indicators\nSELECT DISTINCT(indicator_name)\nFROM public.international_debt\nORDER BY indicator_name",
        "outputsMetadata": {
          "0": {
            "height": 323,
            "type": "dataFrame"
          }
        }
      },
      "outputs": [
        {
          "output_type": "execute_result",
          "data": {
            "application/com.datacamp.data-table.v2+json": {
              "table": {
                "schema": {
                  "fields": [
                    {
                      "name": "index",
                      "type": "integer"
                    },
                    {
                      "name": "indicator_name",
                      "type": "string"
                    }
                  ],
                  "primaryKey": [
                    "index"
                  ],
                  "pandas_version": "1.4.0"
                },
                "data": {
                  "index": [
                    0,
                    1,
                    2,
                    3,
                    4,
                    5,
                    6,
                    7,
                    8,
                    9,
                    10,
                    11,
                    12,
                    13,
                    14,
                    15,
                    16,
                    17,
                    18,
                    19,
                    20,
                    21,
                    22,
                    23,
                    24
                  ],
                  "indicator_name": [
                    "Disbursements on external debt, long-term (DIS, current US$)",
                    "Interest payments on external debt, long-term (INT, current US$)",
                    "Interest payments on external debt, private nonguaranteed (PNG) (INT, current US$)",
                    "PPG, bilateral (AMT, current US$)",
                    "PPG, bilateral (DIS, current US$)",
                    "PPG, bilateral (INT, current US$)",
                    "PPG, bonds (AMT, current US$)",
                    "PPG, bonds (INT, current US$)",
                    "PPG, commercial banks (AMT, current US$)",
                    "PPG, commercial banks (DIS, current US$)",
                    "PPG, commercial banks (INT, current US$)",
                    "PPG, multilateral (AMT, current US$)",
                    "PPG, multilateral (DIS, current US$)",
                    "PPG, multilateral (INT, current US$)",
                    "PPG, official creditors (AMT, current US$)",
                    "PPG, official creditors (DIS, current US$)",
                    "PPG, official creditors (INT, current US$)",
                    "PPG, other private creditors (AMT, current US$)",
                    "PPG, other private creditors (DIS, current US$)",
                    "PPG, other private creditors (INT, current US$)",
                    "PPG, private creditors (AMT, current US$)",
                    "PPG, private creditors (DIS, current US$)",
                    "PPG, private creditors (INT, current US$)",
                    "Principal repayments on external debt, long-term (AMT, current US$)",
                    "Principal repayments on external debt, private nonguaranteed (PNG) (AMT, current US$)"
                  ]
                }
              },
              "total_rows": 25,
              "truncation_type": null
            },
            "text/plain": "                                       indicator_name\n0   Disbursements on external debt, long-term (DIS...\n1   Interest payments on external debt, long-term ...\n2   Interest payments on external debt, private no...\n3                   PPG, bilateral (AMT, current US$)\n4                   PPG, bilateral (DIS, current US$)\n5                   PPG, bilateral (INT, current US$)\n6                       PPG, bonds (AMT, current US$)\n7                       PPG, bonds (INT, current US$)\n8            PPG, commercial banks (AMT, current US$)\n9            PPG, commercial banks (DIS, current US$)\n10           PPG, commercial banks (INT, current US$)\n11               PPG, multilateral (AMT, current US$)\n12               PPG, multilateral (DIS, current US$)\n13               PPG, multilateral (INT, current US$)\n14         PPG, official creditors (AMT, current US$)\n15         PPG, official creditors (DIS, current US$)\n16         PPG, official creditors (INT, current US$)\n17    PPG, other private creditors (AMT, current US$)\n18    PPG, other private creditors (DIS, current US$)\n19    PPG, other private creditors (INT, current US$)\n20          PPG, private creditors (AMT, current US$)\n21          PPG, private creditors (DIS, current US$)\n22          PPG, private creditors (INT, current US$)\n23  Principal repayments on external debt, long-te...\n24  Principal repayments on external debt, private...",
            "text/html": "<div>\n<style scoped>\n    .dataframe tbody tr th:only-of-type {\n        vertical-align: middle;\n    }\n\n    .dataframe tbody tr th {\n        vertical-align: top;\n    }\n\n    .dataframe thead th {\n        text-align: right;\n    }\n</style>\n<table border=\"1\" class=\"dataframe\">\n  <thead>\n    <tr style=\"text-align: right;\">\n      <th></th>\n      <th>indicator_name</th>\n    </tr>\n  </thead>\n  <tbody>\n    <tr>\n      <th>0</th>\n      <td>Disbursements on external debt, long-term (DIS...</td>\n    </tr>\n    <tr>\n      <th>1</th>\n      <td>Interest payments on external debt, long-term ...</td>\n    </tr>\n    <tr>\n      <th>2</th>\n      <td>Interest payments on external debt, private no...</td>\n    </tr>\n    <tr>\n      <th>3</th>\n      <td>PPG, bilateral (AMT, current US$)</td>\n    </tr>\n    <tr>\n      <th>4</th>\n      <td>PPG, bilateral (DIS, current US$)</td>\n    </tr>\n    <tr>\n      <th>5</th>\n      <td>PPG, bilateral (INT, current US$)</td>\n    </tr>\n    <tr>\n      <th>6</th>\n      <td>PPG, bonds (AMT, current US$)</td>\n    </tr>\n    <tr>\n      <th>7</th>\n      <td>PPG, bonds (INT, current US$)</td>\n    </tr>\n    <tr>\n      <th>8</th>\n      <td>PPG, commercial banks (AMT, current US$)</td>\n    </tr>\n    <tr>\n      <th>9</th>\n      <td>PPG, commercial banks (DIS, current US$)</td>\n    </tr>\n    <tr>\n      <th>10</th>\n      <td>PPG, commercial banks (INT, current US$)</td>\n    </tr>\n    <tr>\n      <th>11</th>\n      <td>PPG, multilateral (AMT, current US$)</td>\n    </tr>\n    <tr>\n      <th>12</th>\n      <td>PPG, multilateral (DIS, current US$)</td>\n    </tr>\n    <tr>\n      <th>13</th>\n      <td>PPG, multilateral (INT, current US$)</td>\n    </tr>\n    <tr>\n      <th>14</th>\n      <td>PPG, official creditors (AMT, current US$)</td>\n    </tr>\n    <tr>\n      <th>15</th>\n      <td>PPG, official creditors (DIS, current US$)</td>\n    </tr>\n    <tr>\n      <th>16</th>\n      <td>PPG, official creditors (INT, current US$)</td>\n    </tr>\n    <tr>\n      <th>17</th>\n      <td>PPG, other private creditors (AMT, current US$)</td>\n    </tr>\n    <tr>\n      <th>18</th>\n      <td>PPG, other private creditors (DIS, current US$)</td>\n    </tr>\n    <tr>\n      <th>19</th>\n      <td>PPG, other private creditors (INT, current US$)</td>\n    </tr>\n    <tr>\n      <th>20</th>\n      <td>PPG, private creditors (AMT, current US$)</td>\n    </tr>\n    <tr>\n      <th>21</th>\n      <td>PPG, private creditors (DIS, current US$)</td>\n    </tr>\n    <tr>\n      <th>22</th>\n      <td>PPG, private creditors (INT, current US$)</td>\n    </tr>\n    <tr>\n      <th>23</th>\n      <td>Principal repayments on external debt, long-te...</td>\n    </tr>\n    <tr>\n      <th>24</th>\n      <td>Principal repayments on external debt, private...</td>\n    </tr>\n  </tbody>\n</table>\n</div>"
          },
          "metadata": {},
          "execution_count": 43,
          "@datacamp/metadata": {
            "executedQuery": "--distinct_debt_indicators\nSELECT DISTINCT(indicator_name)\nFROM public.international_debt\nORDER BY indicator_name",
            "executedQueryParameters": []
          }
        }
      ],
      "execution_count": 43
    },
    {
      "id": "52c97d25-0361-4958-bd19-e342bdf1fe47",
      "cell_type": "code",
      "source": "SELECT ROUND(SUM(debt)/1000000,2)  ##Total amount of debt owed by all countries, in millions, rounded to 2 digits. Looks like a huge number.\nFROM public.international_debt\n",
      "metadata": {
        "customType": "sql",
        "dataFrameVariableName": "total_debt",
        "sqlCellMode": "dataFrame",
        "sqlSource": {
          "integrationId": "89e17161-a224-4a8a-846b-0adc0fe7a4b1",
          "type": "integration"
        },
        "executionCancelledAt": null,
        "executionTime": 599,
        "lastExecutedAt": 1705679811915,
        "lastScheduledRunId": null,
        "lastSuccessfullyExecutedCode": "--total_debt\nSELECT ROUND(SUM(debt)/1000000,2)\nFROM public.international_debt\n",
        "outputsMetadata": {
          "0": {
            "height": 98,
            "type": "dataFrame"
          }
        }
      },
      "outputs": [
        {
          "output_type": "execute_result",
          "data": {
            "application/com.datacamp.data-table.v2+json": {
              "table": {
                "schema": {
                  "fields": [
                    {
                      "name": "index",
                      "type": "integer"
                    },
                    {
                      "name": "round",
                      "type": "number"
                    }
                  ],
                  "primaryKey": [
                    "index"
                  ],
                  "pandas_version": "1.4.0"
                },
                "data": {
                  "index": [
                    0
                  ],
                  "round": [
                    3079734.49
                  ]
                }
              },
              "total_rows": 1,
              "truncation_type": null
            },
            "text/plain": "        round\n0  3079734.49",
            "text/html": "<div>\n<style scoped>\n    .dataframe tbody tr th:only-of-type {\n        vertical-align: middle;\n    }\n\n    .dataframe tbody tr th {\n        vertical-align: top;\n    }\n\n    .dataframe thead th {\n        text-align: right;\n    }\n</style>\n<table border=\"1\" class=\"dataframe\">\n  <thead>\n    <tr style=\"text-align: right;\">\n      <th></th>\n      <th>round</th>\n    </tr>\n  </thead>\n  <tbody>\n    <tr>\n      <th>0</th>\n      <td>3079734.49</td>\n    </tr>\n  </tbody>\n</table>\n</div>"
          },
          "metadata": {},
          "execution_count": 44,
          "@datacamp/metadata": {
            "executedQuery": "--total_debt\nSELECT ROUND(SUM(debt)/1000000,2)\nFROM public.international_debt",
            "executedQueryParameters": []
          }
        }
      ],
      "execution_count": 44
    },
    {
      "id": "93c8f733-7c58-43f4-b5ce-314484e46bab",
      "cell_type": "code",
      "source": "SELECT country_name, SUM(debt) AS total_debt  ##Country that owed a biggest total debt amount across indicators\nFROM public.international_debt\nGROUP BY country_name\nORDER BY total_debt DESC\nLIMIT (1);",
      "metadata": {
        "customType": "sql",
        "dataFrameVariableName": "highest_debt_country",
        "sqlCellMode": "dataFrame",
        "sqlSource": {
          "integrationId": "89e17161-a224-4a8a-846b-0adc0fe7a4b1",
          "type": "integration"
        },
        "executionCancelledAt": null,
        "executionTime": 613,
        "lastExecutedAt": 1705679812528,
        "lastScheduledRunId": null,
        "lastSuccessfullyExecutedCode": "--highest_debt_country\nSELECT country_name, SUM(debt) AS total_debt\nFROM public.international_debt\nGROUP BY country_name\nORDER BY total_debt DESC\nLIMIT (1);",
        "outputsMetadata": {
          "0": {
            "height": 98,
            "type": "dataFrame"
          }
        }
      },
      "outputs": [
        {
          "output_type": "execute_result",
          "data": {
            "application/com.datacamp.data-table.v2+json": {
              "table": {
                "schema": {
                  "fields": [
                    {
                      "name": "index",
                      "type": "integer"
                    },
                    {
                      "name": "country_name",
                      "type": "string"
                    },
                    {
                      "name": "total_debt",
                      "type": "number"
                    }
                  ],
                  "primaryKey": [
                    "index"
                  ],
                  "pandas_version": "1.4.0"
                },
                "data": {
                  "index": [
                    0
                  ],
                  "country_name": [
                    "China"
                  ],
                  "total_debt": [
                    285793494734.2
                  ]
                }
              },
              "total_rows": 1,
              "truncation_type": null
            },
            "text/plain": "  country_name    total_debt\n0        China  2.857935e+11",
            "text/html": "<div>\n<style scoped>\n    .dataframe tbody tr th:only-of-type {\n        vertical-align: middle;\n    }\n\n    .dataframe tbody tr th {\n        vertical-align: top;\n    }\n\n    .dataframe thead th {\n        text-align: right;\n    }\n</style>\n<table border=\"1\" class=\"dataframe\">\n  <thead>\n    <tr style=\"text-align: right;\">\n      <th></th>\n      <th>country_name</th>\n      <th>total_debt</th>\n    </tr>\n  </thead>\n  <tbody>\n    <tr>\n      <th>0</th>\n      <td>China</td>\n      <td>2.857935e+11</td>\n    </tr>\n  </tbody>\n</table>\n</div>"
          },
          "metadata": {},
          "execution_count": 45,
          "@datacamp/metadata": {
            "executedQuery": "--highest_debt_country\nSELECT country_name, SUM(debt) AS total_debt\nFROM public.international_debt\nGROUP BY country_name\nORDER BY total_debt DESC\nLIMIT (1);",
            "executedQueryParameters": []
          }
        }
      ],
      "execution_count": 45
    },
    {
      "id": "833811a5-d961-47ea-b7aa-d8232b8f32ee",
      "cell_type": "code",
      "source": "SELECT indicator_code AS debt_indicator, indicator_name, AVG(debt) AS average_debt\nFROM public.international_debt\nGROUP BY debt_indicator, indicator_name   ##Average debt amount across indicator and sub-indicators\nORDER BY average_debt DESC\nLIMIT 10",
      "metadata": {
        "customType": "sql",
        "dataFrameVariableName": "avg_debt_per_indicator",
        "sqlCellMode": "dataFrame",
        "sqlSource": {
          "integrationId": "89e17161-a224-4a8a-846b-0adc0fe7a4b1",
          "type": "integration"
        },
        "executionCancelledAt": null,
        "executionTime": 630,
        "lastExecutedAt": 1705679813158,
        "lastScheduledRunId": null,
        "lastSuccessfullyExecutedCode": "--avg_debt_per_indicator\nSELECT indicator_code AS debt_indicator, indicator_name, AVG(debt) AS average_debt\nFROM public.international_debt\nGROUP BY debt_indicator, indicator_name\nORDER BY average_debt DESC\nLIMIT 10",
        "outputsMetadata": {
          "0": {
            "height": 323,
            "type": "dataFrame"
          }
        }
      },
      "outputs": [
        {
          "output_type": "execute_result",
          "data": {
            "application/com.datacamp.data-table.v2+json": {
              "table": {
                "schema": {
                  "fields": [
                    {
                      "name": "index",
                      "type": "integer"
                    },
                    {
                      "name": "debt_indicator",
                      "type": "string"
                    },
                    {
                      "name": "indicator_name",
                      "type": "string"
                    },
                    {
                      "name": "average_debt",
                      "type": "number"
                    }
                  ],
                  "primaryKey": [
                    "index"
                  ],
                  "pandas_version": "1.4.0"
                },
                "data": {
                  "index": [
                    0,
                    1,
                    2,
                    3,
                    4,
                    5,
                    6,
                    7,
                    8,
                    9
                  ],
                  "debt_indicator": [
                    "DT.AMT.DLXF.CD",
                    "DT.AMT.DPNG.CD",
                    "DT.DIS.DLXF.CD",
                    "DT.DIS.OFFT.CD",
                    "DT.AMT.PRVT.CD",
                    "DT.INT.DLXF.CD",
                    "DT.DIS.BLAT.CD",
                    "DT.INT.DPNG.CD",
                    "DT.AMT.OFFT.CD",
                    "DT.AMT.PBND.CD"
                  ],
                  "indicator_name": [
                    "Principal repayments on external debt, long-term (AMT, current US$)",
                    "Principal repayments on external debt, private nonguaranteed (PNG) (AMT, current US$)",
                    "Disbursements on external debt, long-term (DIS, current US$)",
                    "PPG, official creditors (DIS, current US$)",
                    "PPG, private creditors (AMT, current US$)",
                    "Interest payments on external debt, long-term (INT, current US$)",
                    "PPG, bilateral (DIS, current US$)",
                    "Interest payments on external debt, private nonguaranteed (PNG) (INT, current US$)",
                    "PPG, official creditors (AMT, current US$)",
                    "PPG, bonds (AMT, current US$)"
                  ],
                  "average_debt": [
                    5904868401.499193,
                    5161194333.812657,
                    2152041216.890244,
                    1958983452.859836,
                    1803694101.9632652,
                    1644024067.6508064,
                    1223139290.39823,
                    1220410844.4215188,
                    1191187963.0830643,
                    1082623947.653623
                  ]
                }
              },
              "total_rows": 10,
              "truncation_type": null
            },
            "text/plain": "   debt_indicator  ...  average_debt\n0  DT.AMT.DLXF.CD  ...  5.904868e+09\n1  DT.AMT.DPNG.CD  ...  5.161194e+09\n2  DT.DIS.DLXF.CD  ...  2.152041e+09\n3  DT.DIS.OFFT.CD  ...  1.958983e+09\n4  DT.AMT.PRVT.CD  ...  1.803694e+09\n5  DT.INT.DLXF.CD  ...  1.644024e+09\n6  DT.DIS.BLAT.CD  ...  1.223139e+09\n7  DT.INT.DPNG.CD  ...  1.220411e+09\n8  DT.AMT.OFFT.CD  ...  1.191188e+09\n9  DT.AMT.PBND.CD  ...  1.082624e+09\n\n[10 rows x 3 columns]",
            "text/html": "<div>\n<style scoped>\n    .dataframe tbody tr th:only-of-type {\n        vertical-align: middle;\n    }\n\n    .dataframe tbody tr th {\n        vertical-align: top;\n    }\n\n    .dataframe thead th {\n        text-align: right;\n    }\n</style>\n<table border=\"1\" class=\"dataframe\">\n  <thead>\n    <tr style=\"text-align: right;\">\n      <th></th>\n      <th>debt_indicator</th>\n      <th>indicator_name</th>\n      <th>average_debt</th>\n    </tr>\n  </thead>\n  <tbody>\n    <tr>\n      <th>0</th>\n      <td>DT.AMT.DLXF.CD</td>\n      <td>Principal repayments on external debt, long-te...</td>\n      <td>5.904868e+09</td>\n    </tr>\n    <tr>\n      <th>1</th>\n      <td>DT.AMT.DPNG.CD</td>\n      <td>Principal repayments on external debt, private...</td>\n      <td>5.161194e+09</td>\n    </tr>\n    <tr>\n      <th>2</th>\n      <td>DT.DIS.DLXF.CD</td>\n      <td>Disbursements on external debt, long-term (DIS...</td>\n      <td>2.152041e+09</td>\n    </tr>\n    <tr>\n      <th>3</th>\n      <td>DT.DIS.OFFT.CD</td>\n      <td>PPG, official creditors (DIS, current US$)</td>\n      <td>1.958983e+09</td>\n    </tr>\n    <tr>\n      <th>4</th>\n      <td>DT.AMT.PRVT.CD</td>\n      <td>PPG, private creditors (AMT, current US$)</td>\n      <td>1.803694e+09</td>\n    </tr>\n    <tr>\n      <th>5</th>\n      <td>DT.INT.DLXF.CD</td>\n      <td>Interest payments on external debt, long-term ...</td>\n      <td>1.644024e+09</td>\n    </tr>\n    <tr>\n      <th>6</th>\n      <td>DT.DIS.BLAT.CD</td>\n      <td>PPG, bilateral (DIS, current US$)</td>\n      <td>1.223139e+09</td>\n    </tr>\n    <tr>\n      <th>7</th>\n      <td>DT.INT.DPNG.CD</td>\n      <td>Interest payments on external debt, private no...</td>\n      <td>1.220411e+09</td>\n    </tr>\n    <tr>\n      <th>8</th>\n      <td>DT.AMT.OFFT.CD</td>\n      <td>PPG, official creditors (AMT, current US$)</td>\n      <td>1.191188e+09</td>\n    </tr>\n    <tr>\n      <th>9</th>\n      <td>DT.AMT.PBND.CD</td>\n      <td>PPG, bonds (AMT, current US$)</td>\n      <td>1.082624e+09</td>\n    </tr>\n  </tbody>\n</table>\n</div>"
          },
          "metadata": {},
          "execution_count": 46,
          "@datacamp/metadata": {
            "executedQuery": "--avg_debt_per_indicator\nSELECT indicator_code AS debt_indicator, indicator_name, AVG(debt) AS average_debt\nFROM public.international_debt\nGROUP BY debt_indicator, indicator_name\nORDER BY average_debt DESC\nLIMIT 10",
            "executedQueryParameters": []
          }
        }
      ],
      "execution_count": 46
    },
    {
      "id": "54ba840f-fb60-40ba-b97d-d98d96f9b8da",
      "cell_type": "code",
      "source": "SELECT country_name, indicator_name   ##In the principal repayments, long-term category, China owes the most debt.\nFROM public.international_debt    ## A subquery is used, to match specifically the maximum debt in the single category.\nWHERE indicator_code = 'DT.AMT.DLXF.CD' AND debt = (SELECT MAX(debt)\n\t\t\t\t\t\t\t\t\t\t\t\t\tFROM international_debt\n\t\t\t\t\t\t\t\t\t\t\t\t\tWHERE indicator_code = 'DT.AMT.DLXF.CD');",
      "metadata": {
        "customType": "sql",
        "dataFrameVariableName": "highest_principal_repayment",
        "sqlCellMode": "dataFrame",
        "sqlSource": {
          "integrationId": "89e17161-a224-4a8a-846b-0adc0fe7a4b1",
          "type": "integration"
        },
        "executionCancelledAt": null,
        "executionTime": 633,
        "lastExecutedAt": 1705679813791,
        "lastScheduledRunId": null,
        "lastSuccessfullyExecutedCode": "--highest_principal_repayment\nSELECT country_name, indicator_name\nFROM public.international_debt\nWHERE indicator_code = 'DT.AMT.DLXF.CD' AND debt = (SELECT MAX(debt)\n\t\t\t\t\t\t\t\t\t\t\t\t\tFROM international_debt\n\t\t\t\t\t\t\t\t\t\t\t\t\tWHERE indicator_code = 'DT.AMT.DLXF.CD');",
        "outputsMetadata": {
          "0": {
            "height": 98,
            "type": "dataFrame"
          }
        }
      },
      "outputs": [
        {
          "output_type": "execute_result",
          "data": {
            "application/com.datacamp.data-table.v2+json": {
              "table": {
                "schema": {
                  "fields": [
                    {
                      "name": "index",
                      "type": "integer"
                    },
                    {
                      "name": "country_name",
                      "type": "string"
                    },
                    {
                      "name": "indicator_name",
                      "type": "string"
                    }
                  ],
                  "primaryKey": [
                    "index"
                  ],
                  "pandas_version": "1.4.0"
                },
                "data": {
                  "index": [
                    0
                  ],
                  "country_name": [
                    "China"
                  ],
                  "indicator_name": [
                    "Principal repayments on external debt, long-term (AMT, current US$)"
                  ]
                }
              },
              "total_rows": 1,
              "truncation_type": null
            },
            "text/plain": "  country_name                                     indicator_name\n0        China  Principal repayments on external debt, long-te...",
            "text/html": "<div>\n<style scoped>\n    .dataframe tbody tr th:only-of-type {\n        vertical-align: middle;\n    }\n\n    .dataframe tbody tr th {\n        vertical-align: top;\n    }\n\n    .dataframe thead th {\n        text-align: right;\n    }\n</style>\n<table border=\"1\" class=\"dataframe\">\n  <thead>\n    <tr style=\"text-align: right;\">\n      <th></th>\n      <th>country_name</th>\n      <th>indicator_name</th>\n    </tr>\n  </thead>\n  <tbody>\n    <tr>\n      <th>0</th>\n      <td>China</td>\n      <td>Principal repayments on external debt, long-te...</td>\n    </tr>\n  </tbody>\n</table>\n</div>"
          },
          "metadata": {},
          "execution_count": 47,
          "@datacamp/metadata": {
            "executedQuery": "--highest_principal_repayment\nSELECT country_name, indicator_name\nFROM public.international_debt\nWHERE indicator_code = 'DT.AMT.DLXF.CD' AND debt = (SELECT MAX(debt)\nFROM international_debt\nWHERE indicator_code = 'DT.AMT.DLXF.CD');",
            "executedQueryParameters": []
          }
        }
      ],
      "execution_count": 47
    }
  ]
}
